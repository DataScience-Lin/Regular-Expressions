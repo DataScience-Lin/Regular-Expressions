{
  "nbformat": 4,
  "nbformat_minor": 0,
  "metadata": {
    "colab": {
      "provenance": []
    },
    "kernelspec": {
      "name": "python3",
      "display_name": "Python 3"
    },
    "language_info": {
      "name": "python"
    }
  },
  "cells": [
    {
      "cell_type": "markdown",
      "source": [
        "# **Regular Expressions**"
      ],
      "metadata": {
        "id": "QXIq89aRTabF"
      }
    },
    {
      "cell_type": "markdown",
      "source": [
        "\n",
        "\n",
        "**Introduction to Regular Expressions**\n",
        "\n",
        "    What are regular expressions?\n",
        "\n",
        "    Why are regular expressions useful?\n",
        "\n",
        "    Basic syntax of regular expressions in Python.\n",
        "\n",
        "    Literal characters and metacharacters.\n",
        "\n",
        "    Using the re module in Python for regular expressions.\n",
        "\n",
        "    Simple pattern matching using re.search() and re.match().\n",
        "\n",
        "**Character Classes and Quantifiers**\n",
        "\n",
        "    Understanding character classes ([...]) and their usage.\n",
        "\n",
        "    Using predefined character classes (\\d, \\w, \\s, etc.).\n",
        "\n",
        "    Quantifiers: *, +, ?, {}.\n",
        "\n",
        "    Greedy vs. non-greedy matching.\n",
        "\n",
        "    Matching specific quantities of characters.\n",
        "\n",
        "**Anchors and Boundaries**\n",
        "\n",
        "    Using anchors: ^ and $.\n",
        "\n",
        "    Utilizing word boundaries: \\b and \\B.\n",
        "\n",
        "    Understanding the importance of anchors and boundaries.\n",
        "\n",
        "    Examples of using anchors and boundaries.\n",
        "\n",
        "**Groups and Capturing**\n",
        "\n",
        "    Introduction to groups with parentheses.\n",
        "\n",
        "    Non-capturing groups (?:...).\n",
        "\n",
        "    Capturing groups and accessing matched groups.\n",
        "\n",
        "    Backreferences: Using captured groups in the pattern.\n",
        "\n",
        "    Practical applications of groups and capturing.\n",
        "\n",
        "**Alternation and Flags**\n",
        "\n",
        "    Alternation with the pipe character |.\n",
        "\n",
        "    Case-insensitive matching with flags.\n",
        "\n",
        "    Other useful flags: re.IGNORECASE, re.MULTILINE, etc.\n",
        "\n",
        "    Practical examples demonstrating alternation and flags.\n",
        "\n",
        "**Lookahead and Lookbehind Assertions**\n",
        "\n",
        "    Positive and negative lookahead assertions.\n",
        "\n",
        "    Positive and negative lookbehind assertions.\n",
        "\n",
        "    Understanding the importance of lookahead and lookbehind.\n",
        "\n",
        "    Practical examples showcasing lookahead and lookbehind assertions.\n",
        "\n",
        "**Advanced Topics and Optimization Techniques**\n",
        "\n",
        "    Recursive patterns and their applications.\n",
        "\n",
        "    Performance considerations and optimization techniques.\n",
        "\n",
        "    Using compiled regex objects for improved performance.\n",
        "\n",
        "    Practical examples demonstrating advanced topics and optimization techniques.\n",
        "\n",
        "**Project**"
      ],
      "metadata": {
        "id": "2IbIY3VSNMfJ"
      }
    },
    {
      "cell_type": "markdown",
      "source": [
        "#***Overview of Regular Expressions:***"
      ],
      "metadata": {
        "id": "8SMBE8koTf0V"
      }
    },
    {
      "cell_type": "markdown",
      "source": [
        "\n",
        "\n",
        "\n",
        "\n",
        "**Regular expressions** (regex or regexp) are sequences of characters that define a search pattern. They are widely used in text processing tasks to search, manipulate, and validate strings.\n",
        "\n",
        "\n",
        "**Basic Syntax of Regular Expressions in Python:**\n",
        "\n",
        "A regular expression is typically a string pattern composed of literal characters and metacharacters.\n",
        "\n",
        "**Examples of metacharacters** include . (matches any single character except newline), * (matches zero or more occurrences), + (matches one or more occurrences), ? (matches zero or one occurrence), [] (defines a character class), () (defines a group), etc.\n",
        "\n",
        "**Literal Characters and Metacharacters:**\n",
        "\n",
        "Literal characters match themselves in the input string. For example, the regex cat will match the string \"cat\" in the input.\n",
        "\n",
        "Metacharacters have special meanings in regular expressions. For example, . matches any character except newline, * matches zero or more occurrences of the preceding character, etc.\n",
        "\n",
        "Using the **re Module** in Python for Regular Expressions:\n",
        "\n",
        "Python's re module provides functions and methods to work with regular expressions.\n",
        "\n",
        "Commonly used functions include re.search(), re.match(), re.findall(), re.sub(), etc."
      ],
      "metadata": {
        "id": "RgK4IoxgNQdz"
      }
    },
    {
      "cell_type": "code",
      "execution_count": 1,
      "metadata": {
        "colab": {
          "base_uri": "https://localhost:8080/"
        },
        "id": "BcmxnN2KLw0d",
        "outputId": "4c085f18-5c0f-4d01-d0fa-b3dc7f021f2e"
      },
      "outputs": [
        {
          "output_type": "stream",
          "name": "stdout",
          "text": [
            "Pattern found: fox\n",
            "Pattern found at the beginning of the string: The\n"
          ]
        }
      ],
      "source": [
        "import re\n",
        "\n",
        "# Using re.search()\n",
        "pattern = r'fox'\n",
        "text = \"The quick brown fox jumps over the lazy dog\"\n",
        "match = re.search(pattern, text)\n",
        "if match:\n",
        "    print(\"Pattern found:\", match.group())\n",
        "else:\n",
        "    print(\"Pattern not found\")\n",
        "\n",
        "# Using re.match()\n",
        "pattern = r'The'\n",
        "text = \"The quick brown fox jumps over the lazy dog\"\n",
        "match = re.match(pattern, text)\n",
        "if match:\n",
        "    print(\"Pattern found at the beginning of the string:\", match.group())\n",
        "else:\n",
        "    print(\"Pattern not found at the beginning of the string\")\n"
      ]
    },
    {
      "cell_type": "markdown",
      "source": [
        "In this example, re.search() searches for the pattern \"fox\" in the text and re.match() matches the pattern \"The\" only at the beginning of the string.\n",
        "\n",
        "Regular expressions are powerful tools for string manipulation and pattern matching in Python. Understanding their basic syntax and functions is essential for effective text processing tasks."
      ],
      "metadata": {
        "id": "8Mo3mIorNy-M"
      }
    },
    {
      "cell_type": "markdown",
      "source": [
        "#**Character Classes and Quantifiers**"
      ],
      "metadata": {
        "id": "Wm6uniSrTmF6"
      }
    },
    {
      "cell_type": "markdown",
      "source": [
        "**Character Classes and Quantifiers:**\n",
        "\n",
        "**Character classes** [...] allow matching of any character within the brackets. For example, [aeiou] matches any vowel.\n",
        "\n",
        "**Quantifiers** specify how many occurrences of the preceding element should be matched.\n",
        "For instance, * matches zero or more occurrences, + matches one or more occurrences, ? matches zero or one occurrence, {n} matches exactly n occurrences, {n,} matches n or more occurrences, and {n,m} matches between n and m occurrences."
      ],
      "metadata": {
        "id": "pw3tBlWnN67k"
      }
    },
    {
      "cell_type": "code",
      "source": [
        "import re\n",
        "\n",
        "# Character Classes\n",
        "pattern = r'[aeiou]'\n",
        "text = \"The quick brown fox jumps over the lazy dog\"\n",
        "matches = re.findall(pattern, text)\n",
        "print(\"Vowels found:\", matches)\n",
        "\n",
        "# Quantifiers\n",
        "pattern = r'ab*'\n",
        "text = \"ab abbb abb\"\n",
        "matches = re.findall(pattern, text)\n",
        "print(\"Matches found:\", matches)\n"
      ],
      "metadata": {
        "colab": {
          "base_uri": "https://localhost:8080/"
        },
        "id": "iWsgzCVSOcCc",
        "outputId": "c5aaaf56-d5e8-4b75-c84d-e597f0f89234"
      },
      "execution_count": 2,
      "outputs": [
        {
          "output_type": "stream",
          "name": "stdout",
          "text": [
            "Vowels found: ['e', 'u', 'i', 'o', 'o', 'u', 'o', 'e', 'e', 'a', 'o']\n",
            "Matches found: ['ab', 'abbb', 'abb']\n"
          ]
        }
      ]
    },
    {
      "cell_type": "markdown",
      "source": [
        "#**Anchors and Boundaries**"
      ],
      "metadata": {
        "id": "D6VWnGAZTqOu"
      }
    },
    {
      "cell_type": "markdown",
      "source": [
        "**Anchors and Boundaries:**\n",
        "\n",
        "**Anchors** ^ and $ are used to match the beginning and end of a string, respectively.\n",
        "\n",
        "**Word boundaries** \\b and \\B are used to match the position between a word character and a non-word character, or between two word characters, respectively."
      ],
      "metadata": {
        "id": "kgenFuFwOhlM"
      }
    },
    {
      "cell_type": "code",
      "source": [
        "import re\n",
        "\n",
        "# Anchors\n",
        "pattern = r'^The'\n",
        "text = \"The quick brown fox jumps over the lazy dog\"\n",
        "match = re.match(pattern, text)\n",
        "if match:\n",
        "    print(\"Pattern found at the beginning of the string:\", match.group())\n",
        "else:\n",
        "    print(\"Pattern not found at the beginning of the string\")\n",
        "\n",
        "# Word Boundaries\n",
        "pattern = r'\\bfox\\b'\n",
        "text = \"The quick brown fox jumps over the lazy dog\"\n",
        "match = re.search(pattern, text)\n",
        "if match:\n",
        "    print(\"Pattern found:\", match.group())\n",
        "else:\n",
        "    print(\"Pattern not found\")\n"
      ],
      "metadata": {
        "colab": {
          "base_uri": "https://localhost:8080/"
        },
        "id": "3t1sOvGqOmsj",
        "outputId": "909b5c37-a30c-48dd-d357-039647259dfd"
      },
      "execution_count": 3,
      "outputs": [
        {
          "output_type": "stream",
          "name": "stdout",
          "text": [
            "Pattern found at the beginning of the string: The\n",
            "Pattern found: fox\n"
          ]
        }
      ]
    },
    {
      "cell_type": "markdown",
      "source": [
        "#**Groups and Capturing**"
      ],
      "metadata": {
        "id": "41DvKCcETzrF"
      }
    },
    {
      "cell_type": "markdown",
      "source": [
        "In this example, ^The matches the beginning of the string, while \\bfox\\b matches the word \"fox\" only when it appears as a separate word."
      ],
      "metadata": {
        "id": "4JywNIWrOsVU"
      }
    },
    {
      "cell_type": "markdown",
      "source": [
        "**Groups and Capturing:**\n",
        "\n",
        "**Groups** (...) are used to group multiple characters together. They also enable capturing of the matched text.\n",
        "\n",
        "**Capturing** groups allow extracting specific parts of the matched text."
      ],
      "metadata": {
        "id": "YXyRMoz3Ovhr"
      }
    },
    {
      "cell_type": "code",
      "source": [
        "import re\n",
        "\n",
        "# Groups and Capturing\n",
        "pattern = r'(\\d{3})-(\\d{3})-(\\d{4})'\n",
        "text = \"Phone numbers: 123-456-7890, 456-789-1234\"\n",
        "matches = re.findall(pattern, text)\n",
        "for match in matches:\n",
        "    print(\"Phone number:\", \"-\".join(match))\n"
      ],
      "metadata": {
        "colab": {
          "base_uri": "https://localhost:8080/"
        },
        "id": "d1Z8RCLiO3ts",
        "outputId": "8322dac0-4f3a-4289-afbd-e98b471e2dfa"
      },
      "execution_count": 4,
      "outputs": [
        {
          "output_type": "stream",
          "name": "stdout",
          "text": [
            "Phone number: 123-456-7890\n",
            "Phone number: 456-789-1234\n"
          ]
        }
      ]
    },
    {
      "cell_type": "markdown",
      "source": [
        "In this example, the pattern (\\d{3})-(\\d{3})-(\\d{4}) captures phone numbers in the format XXX-XXX-XXXX.\n",
        "\n",
        "\n",
        "Regular expressions provide a flexible and efficient way to search, manipulate, and validate strings in Python."
      ],
      "metadata": {
        "id": "KH1DvvUuPFB5"
      }
    },
    {
      "cell_type": "markdown",
      "source": [
        "#**Alternation and Flags**"
      ],
      "metadata": {
        "id": "pRFJWs3uT5Ou"
      }
    },
    {
      "cell_type": "markdown",
      "source": [
        "**Alternation and Flags:**\n",
        "\n",
        "**Alternation:**\n",
        "\n",
        "Alternation is represented by the pipe character | and allows matching one of several patterns."
      ],
      "metadata": {
        "id": "dAPvTWXTPJ-c"
      }
    },
    {
      "cell_type": "code",
      "source": [
        "import re\n",
        "\n",
        "# Alternation\n",
        "pattern = r'cat|dog'\n",
        "text = \"I have a cat and a dog\"\n",
        "matches = re.findall(pattern, text)\n",
        "print(\"Matches found:\", matches)\n"
      ],
      "metadata": {
        "colab": {
          "base_uri": "https://localhost:8080/"
        },
        "id": "ZhA2wXDMPJnU",
        "outputId": "1cbb83d1-2a83-400d-c52d-ee8dfaf391c0"
      },
      "execution_count": 5,
      "outputs": [
        {
          "output_type": "stream",
          "name": "stdout",
          "text": [
            "Matches found: ['cat', 'dog']\n"
          ]
        }
      ]
    },
    {
      "cell_type": "markdown",
      "source": [
        "In this example, the pattern cat|dog matches either \"cat\" or \"dog\" in the input text."
      ],
      "metadata": {
        "id": "AIQRH_uWPZSt"
      }
    },
    {
      "cell_type": "markdown",
      "source": [
        "**Flags:**\n",
        "\n",
        "Flags modify the behavior of regular expressions.\n",
        "\n",
        "Common flags include **re.IGNORECASE** for case-insensitive matching and **re.MULTILINE** for multiline matching."
      ],
      "metadata": {
        "id": "ZR-FpxdpPaGd"
      }
    },
    {
      "cell_type": "code",
      "source": [
        "import re\n",
        "\n",
        "# Flags\n",
        "pattern = r'dog'\n",
        "text = \"I have a Dog and a dog\"\n",
        "matches = re.findall(pattern, text, flags=re.IGNORECASE)\n",
        "print(\"Matches found with case-insensitive flag:\", matches)\n"
      ],
      "metadata": {
        "colab": {
          "base_uri": "https://localhost:8080/"
        },
        "id": "T9zCNrQyPns9",
        "outputId": "cad78eed-1113-40b4-eab6-a4ae446a6681"
      },
      "execution_count": 6,
      "outputs": [
        {
          "output_type": "stream",
          "name": "stdout",
          "text": [
            "Matches found with case-insensitive flag: ['Dog', 'dog']\n"
          ]
        }
      ]
    },
    {
      "cell_type": "markdown",
      "source": [
        "In this example, **re.IGNORECASE** flag enables case-insensitive matching, so the pattern dog matches both \"Dog\" and \"dog\" in the input text."
      ],
      "metadata": {
        "id": "KYmiAqGcPthb"
      }
    },
    {
      "cell_type": "markdown",
      "source": [
        "#**Lookahead and Lookbehind Assertions**"
      ],
      "metadata": {
        "id": "MQbZGJo3UBe-"
      }
    },
    {
      "cell_type": "markdown",
      "source": [
        "**Lookahead and Lookbehind Assertions:**\n",
        "\n",
        "**Lookahead assertions** (?=...) and (?!...) assert whether a pattern is followed by another pattern or not.\n",
        "\n",
        "**Lookbehind assertions** (?<=...) and (?<!...) assert whether a pattern is preceded by another pattern or not."
      ],
      "metadata": {
        "id": "HAl_4Jm5PyCH"
      }
    },
    {
      "cell_type": "code",
      "source": [
        "import re\n",
        "\n",
        "# Lookahead and Lookbehind Assertions\n",
        "pattern = r'(?<=quick\\s)(brown)'\n",
        "text = \"The quick brown fox jumps over the lazy dog\"\n",
        "match = re.search(pattern, text)\n",
        "if match:\n",
        "    print(\"Match found using lookbehind assertion:\", match.group())\n",
        "else:\n",
        "    print(\"Match not found\")\n",
        "\n",
        "pattern = r'(brown)(?=\\sfox)'\n",
        "text = \"The quick brown fox jumps over the lazy dog\"\n",
        "match = re.search(pattern, text)\n",
        "if match:\n",
        "    print(\"Match found using lookahead assertion:\", match.group())\n",
        "else:\n",
        "    print(\"Match not found\")\n"
      ],
      "metadata": {
        "colab": {
          "base_uri": "https://localhost:8080/"
        },
        "id": "XkRbAYSyPwpc",
        "outputId": "a697715f-7fcb-464c-b86a-82519fbc1355"
      },
      "execution_count": 7,
      "outputs": [
        {
          "output_type": "stream",
          "name": "stdout",
          "text": [
            "Match found using lookbehind assertion: brown\n",
            "Match found using lookahead assertion: brown\n"
          ]
        }
      ]
    },
    {
      "cell_type": "markdown",
      "source": [
        "In this example, the lookbehind assertion (?<=quick\\s) ensures that \"brown\" is preceded by \"quick \", while the lookahead assertion (?=\\sfox) ensures that \"brown\" is followed by \" fox\"."
      ],
      "metadata": {
        "id": "G4oZxB_2QCb_"
      }
    },
    {
      "cell_type": "markdown",
      "source": [
        "# **Advanced Topics and Optimization Techniques**"
      ],
      "metadata": {
        "id": "HGSVQdu8UHUi"
      }
    },
    {
      "cell_type": "markdown",
      "source": [
        "**Recursive Patterns:**\n",
        "\n",
        "Recursive patterns allow defining patterns that refer to themselves."
      ],
      "metadata": {
        "id": "_kz-QHZeQKwk"
      }
    },
    {
      "cell_type": "code",
      "source": [
        "import re\n",
        "\n",
        "# Recursive Patterns\n",
        "pattern = r'(\\w+)\\s(\\1)'\n",
        "text = \"The quick brown fox jumps over the lazy dog dog\"\n",
        "matches = re.findall(pattern, text)\n",
        "print(\"Matches found with recursive pattern:\", matches)\n"
      ],
      "metadata": {
        "colab": {
          "base_uri": "https://localhost:8080/"
        },
        "id": "X8G3frGyQSHk",
        "outputId": "def2a6e5-ef27-4d69-f317-f34b73c05463"
      },
      "execution_count": 8,
      "outputs": [
        {
          "output_type": "stream",
          "name": "stdout",
          "text": [
            "Matches found with recursive pattern: [('dog', 'dog')]\n"
          ]
        }
      ]
    },
    {
      "cell_type": "markdown",
      "source": [
        "In this example, (\\w+)\\s(\\1) matches repeated words in the input text.\n",
        "\n",
        "\n",
        "Performance Considerations and Optimization Techniques:\n",
        "\n",
        "Regular expressions can sometimes be inefficient, especially for complex patterns or large input strings.\n",
        "\n",
        "Techniques such as optimizing the regex pattern, using compiled regex objects, and avoiding unnecessary backtracking can improve performance."
      ],
      "metadata": {
        "id": "oxes0rqIQVX9"
      }
    },
    {
      "cell_type": "markdown",
      "source": [
        "**Email Address Validation:**\n",
        "\n",
        "Regular expressions are commonly used to validate email addresses."
      ],
      "metadata": {
        "id": "QpM-N2bWQtws"
      }
    },
    {
      "cell_type": "code",
      "source": [
        "import re\n",
        "\n",
        "email_pattern = r'^[a-zA-Z0-9._%+-]+@[a-zA-Z0-9.-]+\\.[a-zA-Z]{2,}$'\n",
        "\n",
        "def validate_email(email):\n",
        "    if re.match(email_pattern, email):\n",
        "        return True\n",
        "    else:\n",
        "        return False\n",
        "\n",
        "emails = [\"user@example.com\", \"invalid_email\", \"another.user@example.co.uk\"]\n",
        "for email in emails:\n",
        "    if validate_email(email):\n",
        "        print(email, \"is a valid email address\")\n",
        "    else:\n",
        "        print(email, \"is not a valid email address\")\n"
      ],
      "metadata": {
        "colab": {
          "base_uri": "https://localhost:8080/"
        },
        "id": "Q44jds04Qvfk",
        "outputId": "687fb1a3-cb29-44aa-b763-e89ca76440c5"
      },
      "execution_count": 9,
      "outputs": [
        {
          "output_type": "stream",
          "name": "stdout",
          "text": [
            "user@example.com is a valid email address\n",
            "invalid_email is not a valid email address\n",
            "another.user@example.co.uk is a valid email address\n"
          ]
        }
      ]
    },
    {
      "cell_type": "markdown",
      "source": [
        "In this example, the regex pattern ^[a-zA-Z0-9._%+-]+@[a-zA-Z0-9.-]+\\.[a-zA-Z]{2,}$ validates email addresses according to a standard format."
      ],
      "metadata": {
        "id": "DxyARYtQQyn_"
      }
    },
    {
      "cell_type": "markdown",
      "source": [
        "**Data Extraction from Text:**\n",
        "\n",
        "Regular expressions are useful for extracting structured data from unstructured text."
      ],
      "metadata": {
        "id": "SCsN2bhSQ20L"
      }
    },
    {
      "cell_type": "code",
      "source": [
        "import re\n",
        "\n",
        "text = \"Product: Apple iPhone 12, Price: $999.99, In stock: Yes\"\n",
        "product_pattern = r'Product: (\\w+\\s\\w+), Price: (\\$\\d+\\.\\d+), In stock: (Yes|No)'\n",
        "\n",
        "match = re.match(product_pattern, text)\n",
        "if match:\n",
        "    product_name = match.group(1)\n",
        "    price = match.group(2)\n",
        "    in_stock = match.group(3)\n",
        "    print(\"Product:\", product_name)\n",
        "    print(\"Price:\", price)\n",
        "    print(\"In stock:\", in_stock)\n",
        "else:\n",
        "    print(\"No match found\")\n"
      ],
      "metadata": {
        "colab": {
          "base_uri": "https://localhost:8080/"
        },
        "id": "PT9wf-hPQ6de",
        "outputId": "ed9629d1-81b3-40d8-de52-c6ec6470feb0"
      },
      "execution_count": 10,
      "outputs": [
        {
          "output_type": "stream",
          "name": "stdout",
          "text": [
            "No match found\n"
          ]
        }
      ]
    },
    {
      "cell_type": "markdown",
      "source": [
        "In this example, the regex pattern Product: (\\w+\\s\\w+), Price: (\\$\\d+\\.\\d+), In stock: (Yes|No) extracts product name, price, and stock status from a text string."
      ],
      "metadata": {
        "id": "VU7KH_JCRBpl"
      }
    },
    {
      "cell_type": "markdown",
      "source": [
        "**Text Replacement and Formatting:**\n",
        "\n",
        "Regular expressions can be used for find and replace operations and text formatting."
      ],
      "metadata": {
        "id": "7mxwNU7BRCom"
      }
    },
    {
      "cell_type": "code",
      "source": [
        "import re\n",
        "\n",
        "text = \"The quick brown fox jumps over the lazy dog\"\n",
        "new_text = re.sub(r'brown', 'red', text)\n",
        "print(\"Original text:\", text)\n",
        "print(\"Modified text:\", new_text)\n"
      ],
      "metadata": {
        "colab": {
          "base_uri": "https://localhost:8080/"
        },
        "id": "fl-1CbtdRFey",
        "outputId": "a06abfbd-b1c0-4c3e-b906-91b64330d863"
      },
      "execution_count": 11,
      "outputs": [
        {
          "output_type": "stream",
          "name": "stdout",
          "text": [
            "Original text: The quick brown fox jumps over the lazy dog\n",
            "Modified text: The quick red fox jumps over the lazy dog\n"
          ]
        }
      ]
    },
    {
      "cell_type": "markdown",
      "source": [
        "**URL Parsing:**\n",
        "\n",
        "Regular expressions are helpful in parsing and extracting information from URLs."
      ],
      "metadata": {
        "id": "-131oMiwRKrX"
      }
    },
    {
      "cell_type": "code",
      "source": [
        "import re\n",
        "\n",
        "url = \"https://www.example.com/path/to/page?param1=value1&param2=value2\"\n",
        "url_pattern = r'https?://([\\w.-]+)/([\\w./-]+)\\?([\\w=&]+)'\n",
        "\n",
        "match = re.match(url_pattern, url)\n",
        "if match:\n",
        "    domain = match.group(1)\n",
        "    path = match.group(2)\n",
        "    query_params = match.group(3)\n",
        "    print(\"Domain:\", domain)\n",
        "    print(\"Path:\", path)\n",
        "    print(\"Query parameters:\", query_params)\n",
        "else:\n",
        "    print(\"No match found\")\n"
      ],
      "metadata": {
        "colab": {
          "base_uri": "https://localhost:8080/"
        },
        "id": "uLSEt7_gRPfA",
        "outputId": "a3af6bda-dc83-4a77-b04a-d3699dc3256f"
      },
      "execution_count": 12,
      "outputs": [
        {
          "output_type": "stream",
          "name": "stdout",
          "text": [
            "Domain: www.example.com\n",
            "Path: path/to/page\n",
            "Query parameters: param1=value1&param2=value2\n"
          ]
        }
      ]
    },
    {
      "cell_type": "markdown",
      "source": [
        "In this example, the regex pattern https?://([\\w.-]+)/([\\w./-]+)\\?([\\w=&]+) parses the domain, path, and query parameters from a URL."
      ],
      "metadata": {
        "id": "p0CjC6CwRUYm"
      }
    },
    {
      "cell_type": "markdown",
      "source": [
        "# **Project**"
      ],
      "metadata": {
        "id": "npOUwaLhUL_9"
      }
    },
    {
      "cell_type": "markdown",
      "source": [
        "**Project Ideas:**\n",
        "\n",
        "Here are some project ideas for individual or group work:\n",
        "\n",
        "**Email Address Validator:**\n",
        "\n",
        "\n",
        "Build a program that validates email addresses using regular expressions.\n",
        "Ensure the email addresses adhere to standard formats and rules.\n",
        "\n",
        "**Data Extraction Tool:**\n",
        "\n",
        "\n",
        "Create a tool that extracts specific data from a given text using regular expressions.\n",
        "For example, extract phone numbers, dates, or URLs from a text document.\n",
        "\n",
        "**Web Scraper with Regex:**\n",
        "\n",
        "Develop a web scraper that utilizes regular expressions to extract desired information from web pages.\n",
        "Extract product names, prices, or other relevant data from e-commerce websites.\n",
        "\n",
        "**Log File Analyzer:**\n",
        "\n",
        "Build a log file analyzer that parses log files using regular expressions.\n",
        "Extract important information such as error messages, timestamps, and IP addresses.\n",
        "\n",
        "**Text Search and Replace Tool:**\n",
        "\n",
        "Create a text search and replace tool that allows users to search for specific patterns using regular expressions and replace them with desired text.\n",
        "Provide options for case-sensitive or case-insensitive searches.\n",
        "\n",
        "**URL Validator and Parser:**\n",
        "\n",
        "Develop a program that validates URLs and parses them into components (scheme, domain, path, query parameters, etc.) using regular expressions.\n",
        "Ensure that the URLs follow standard formats and protocols.\n",
        "\n",
        "**Password Strength Checker:**\n",
        "\n",
        "Build a tool that checks the strength of passwords using regular expressions.\n",
        "Define criteria for strong passwords (e.g., minimum length, use of special characters, etc.) and validate user input accordingly.\n",
        "\n",
        "**CSV Data Validator:**\n",
        "\n",
        "Create a program that validates CSV data using regular expressions.\n",
        "Ensure that the CSV data conforms to specified formats and rules (e.g., correct number of columns, proper data types, etc.)."
      ],
      "metadata": {
        "id": "ZRDNlUszRwIe"
      }
    }
  ]
}